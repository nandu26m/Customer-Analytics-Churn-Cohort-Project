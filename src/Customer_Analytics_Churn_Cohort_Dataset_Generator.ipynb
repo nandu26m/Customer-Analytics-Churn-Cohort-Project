{
  "nbformat": 4,
  "nbformat_minor": 0,
  "metadata": {
    "colab": {
      "provenance": [],
      "authorship_tag": "ABX9TyM+q4vUzrjHhR9pGK8Fccww",
      "include_colab_link": true
    },
    "kernelspec": {
      "name": "python3",
      "display_name": "Python 3"
    },
    "language_info": {
      "name": "python"
    }
  },
  "cells": [
    {
      "cell_type": "markdown",
      "metadata": {
        "id": "view-in-github",
        "colab_type": "text"
      },
      "source": [
        "<a href=\"https://colab.research.google.com/github/nandu26m/Customer-Analytics-Churn-Cohort-Project/blob/main/src/Customer_Analytics_Churn_Cohort_Dataset_Generator.ipynb\" target=\"_parent\"><img src=\"https://colab.research.google.com/assets/colab-badge.svg\" alt=\"Open In Colab\"/></a>"
      ]
    },
    {
      "cell_type": "code",
      "source": [
        "!pip install faker pandas"
      ],
      "metadata": {
        "colab": {
          "base_uri": "https://localhost:8080/"
        },
        "id": "OYutme-1lwNI",
        "outputId": "86c68538-86e7-42a5-9651-558106d6d54e"
      },
      "execution_count": 1,
      "outputs": [
        {
          "output_type": "stream",
          "name": "stdout",
          "text": [
            "Collecting faker\n",
            "  Downloading faker-37.4.0-py3-none-any.whl.metadata (15 kB)\n",
            "Requirement already satisfied: pandas in /usr/local/lib/python3.11/dist-packages (2.2.2)\n",
            "Requirement already satisfied: tzdata in /usr/local/lib/python3.11/dist-packages (from faker) (2025.2)\n",
            "Requirement already satisfied: numpy>=1.23.2 in /usr/local/lib/python3.11/dist-packages (from pandas) (2.0.2)\n",
            "Requirement already satisfied: python-dateutil>=2.8.2 in /usr/local/lib/python3.11/dist-packages (from pandas) (2.9.0.post0)\n",
            "Requirement already satisfied: pytz>=2020.1 in /usr/local/lib/python3.11/dist-packages (from pandas) (2025.2)\n",
            "Requirement already satisfied: six>=1.5 in /usr/local/lib/python3.11/dist-packages (from python-dateutil>=2.8.2->pandas) (1.17.0)\n",
            "Downloading faker-37.4.0-py3-none-any.whl (1.9 MB)\n",
            "\u001b[2K   \u001b[90m━━━━━━━━━━━━━━━━━━━━━━━━━━━━━━━━━━━━━━━━\u001b[0m \u001b[32m1.9/1.9 MB\u001b[0m \u001b[31m18.3 MB/s\u001b[0m eta \u001b[36m0:00:00\u001b[0m\n",
            "\u001b[?25hInstalling collected packages: faker\n",
            "Successfully installed faker-37.4.0\n"
          ]
        }
      ]
    },
    {
      "cell_type": "code",
      "execution_count": 4,
      "metadata": {
        "colab": {
          "base_uri": "https://localhost:8080/",
          "height": 330
        },
        "id": "vFrbtXbPleUU",
        "outputId": "9744e795-fff4-4d31-966c-488e2b047a00"
      },
      "outputs": [
        {
          "output_type": "stream",
          "name": "stdout",
          "text": [
            "✅ All CSVs generated successfully!\n",
            "\n",
            "Generated CSV files:\n",
            "- users.csv\n",
            "- subscription_plans.csv\n",
            "- subscriptions.csv\n",
            "- payments.csv\n",
            "- cancellations.csv\n",
            "- user_logins.csv\n",
            "- support_tickets.csv\n",
            "- promotions.csv\n",
            "- subscription_promotions.csv\n",
            "- user_ltv.csv\n",
            "- retention_snapshots.csv\n",
            "\n",
            "📦 All CSVs zipped into 'churn_project_data.zip'\n"
          ]
        },
        {
          "output_type": "display_data",
          "data": {
            "text/plain": [
              "/content/churn_project_data.zip"
            ],
            "text/html": [
              "<a href='churn_project_data.zip' target='_blank'>churn_project_data.zip</a><br>"
            ]
          },
          "metadata": {}
        }
      ],
      "source": [
        "# Install dependencies\n",
        "!pip install faker pandas --quiet\n",
        "\n",
        "import pandas as pd\n",
        "import random\n",
        "from faker import Faker\n",
        "from datetime import datetime, timedelta\n",
        "import zipfile\n",
        "from IPython.display import display, FileLink\n",
        "\n",
        "fake = Faker()\n",
        "Faker.seed(42)\n",
        "random.seed(42)\n",
        "\n",
        "NUM_USERS = 10000\n",
        "NUM_SUBS = 15000\n",
        "NUM_LOGINS = 50000\n",
        "NUM_PAYMENTS = 15000\n",
        "NUM_TICKETS = 5000\n",
        "NUM_PROMOS = 50\n",
        "PLAN_IDS = [1, 2, 3]\n",
        "\n",
        "# USERS\n",
        "users = []\n",
        "for user_id in range(1, NUM_USERS + 1):\n",
        "    signup_date = fake.date_between(start_date='-2y', end_date='today')\n",
        "    users.append({\n",
        "        \"user_id\": user_id,\n",
        "        \"email\": fake.unique.email(),\n",
        "        \"signup_date\": signup_date,\n",
        "        \"country\": fake.country(),\n",
        "        \"language\": random.choice(['en', 'de', 'fr', 'es']),\n",
        "        \"device_type\": random.choice(['iOS', 'Android', 'Web']),\n",
        "        \"acquisition_channel\": random.choice(['organic', 'ads', 'referral'])\n",
        "    })\n",
        "df_users = pd.DataFrame(users)\n",
        "df_users.to_csv(\"users.csv\", index=False)\n",
        "\n",
        "# SUBSCRIPTION PLANS\n",
        "plans = [\n",
        "    {\"plan_id\": 1, \"plan_name\": \"Basic\", \"plan_type\": \"monthly\", \"price\": 9.99, \"duration_months\": 1, \"is_active\": True},\n",
        "    {\"plan_id\": 2, \"plan_name\": \"Pro\", \"plan_type\": \"monthly\", \"price\": 19.99, \"duration_months\": 1, \"is_active\": True},\n",
        "    {\"plan_id\": 3, \"plan_name\": \"Pro Annual\", \"plan_type\": \"annual\", \"price\": 199.99, \"duration_months\": 12, \"is_active\": True}\n",
        "]\n",
        "df_plans = pd.DataFrame(plans)\n",
        "df_plans.to_csv(\"subscription_plans.csv\", index=False)\n",
        "\n",
        "# SUBSCRIPTIONS\n",
        "subscriptions = []\n",
        "for sub_id in range(1, NUM_SUBS + 1):\n",
        "    user_id = random.randint(1, NUM_USERS)\n",
        "    plan_id = random.choice(PLAN_IDS)\n",
        "    plan = plans[plan_id - 1]\n",
        "    start_date = fake.date_between(start_date='-2y', end_date='today')\n",
        "    expiry_date = start_date + timedelta(days=plan[\"duration_months\"] * 30)\n",
        "    subscriptions.append({\n",
        "        \"subscription_id\": sub_id,\n",
        "        \"user_id\": user_id,\n",
        "        \"plan_id\": plan_id,\n",
        "        \"subscription_date\": start_date,\n",
        "        \"expiry_date\": expiry_date,\n",
        "        \"amount\": plan[\"price\"],\n",
        "        \"is_renewal\": random.choice([True, False]),\n",
        "        \"status\": random.choice(['active', 'canceled', 'expired'])\n",
        "    })\n",
        "df_subs = pd.DataFrame(subscriptions)\n",
        "df_subs.to_csv(\"subscriptions.csv\", index=False)\n",
        "\n",
        "# PAYMENTS\n",
        "payments = []\n",
        "for pay_id in range(1, NUM_PAYMENTS + 1):\n",
        "    sub = random.choice(subscriptions)\n",
        "    payments.append({\n",
        "        \"payment_id\": pay_id,\n",
        "        \"user_id\": sub[\"user_id\"],\n",
        "        \"subscription_id\": sub[\"subscription_id\"],\n",
        "        \"payment_date\": sub[\"subscription_date\"],\n",
        "        \"amount\": sub[\"amount\"],\n",
        "        \"payment_method\": random.choice(['credit_card', 'paypal']),\n",
        "        \"status\": random.choice(['success', 'failed', 'refunded'])\n",
        "    })\n",
        "df_payments = pd.DataFrame(payments)\n",
        "df_payments.to_csv(\"payments.csv\", index=False)\n",
        "\n",
        "# CANCELLATIONS\n",
        "cancellations = []\n",
        "for sub in subscriptions:\n",
        "    if sub[\"status\"] == \"canceled\":\n",
        "        cancellations.append({\n",
        "            \"cancel_id\": len(cancellations) + 1,\n",
        "            \"user_id\": sub[\"user_id\"],\n",
        "            \"subscription_id\": sub[\"subscription_id\"],\n",
        "            \"cancel_date\": sub[\"expiry_date\"],\n",
        "            \"cancel_reason\": fake.sentence(),\n",
        "            \"churn_type\": random.choice(['voluntary', 'involuntary'])\n",
        "        })\n",
        "df_cancellations = pd.DataFrame(cancellations)\n",
        "df_cancellations.to_csv(\"cancellations.csv\", index=False)\n",
        "\n",
        "# USER LOGINS\n",
        "logins = []\n",
        "for login_id in range(1, NUM_LOGINS + 1):\n",
        "    user_id = random.randint(1, NUM_USERS)\n",
        "    logins.append({\n",
        "        \"login_id\": login_id,\n",
        "        \"user_id\": user_id,\n",
        "        \"login_timestamp\": fake.date_time_between(start_date='-2y', end_date='now'),\n",
        "        \"device_type\": random.choice(['iOS', 'Android', 'Web']),\n",
        "        \"ip_address\": fake.ipv4()\n",
        "    })\n",
        "df_logins = pd.DataFrame(logins)\n",
        "df_logins.to_csv(\"user_logins.csv\", index=False)\n",
        "\n",
        "# SUPPORT TICKETS\n",
        "tickets = []\n",
        "for ticket_id in range(1, NUM_TICKETS + 1):\n",
        "    user_id = random.randint(1, NUM_USERS)\n",
        "    created_at = fake.date_time_between(start_date='-2y', end_date='now')\n",
        "    resolved_at = created_at + timedelta(days=random.randint(1, 10))\n",
        "    tickets.append({\n",
        "        \"ticket_id\": ticket_id,\n",
        "        \"user_id\": user_id,\n",
        "        \"created_at\": created_at,\n",
        "        \"resolved_at\": resolved_at,\n",
        "        \"status\": random.choice(['open', 'closed']),\n",
        "        \"category\": random.choice(['billing', 'technical']),\n",
        "        \"feedback\": fake.sentence()\n",
        "    })\n",
        "df_tickets = pd.DataFrame(tickets)\n",
        "df_tickets.to_csv(\"support_tickets.csv\", index=False)\n",
        "\n",
        "# PROMOTIONS\n",
        "promos = []\n",
        "for pid in range(1, NUM_PROMOS + 1):\n",
        "    start_date = fake.date_between(start_date='-1y', end_date='today')\n",
        "    end_date = start_date + timedelta(days=random.randint(30, 180))\n",
        "    promos.append({\n",
        "        \"promo_id\": pid,\n",
        "        \"promo_code\": fake.unique.bothify(text='PROMO-####'),\n",
        "        \"discount_percent\": random.choice([10, 15, 20, 25, 30]),\n",
        "        \"start_date\": start_date,\n",
        "        \"end_date\": end_date,\n",
        "        \"applicable_plan_ids\": [random.choice(PLAN_IDS) for _ in range(random.randint(1, 2))]\n",
        "    })\n",
        "df_promos = pd.DataFrame(promos)\n",
        "df_promos.to_csv(\"promotions.csv\", index=False)\n",
        "\n",
        "# PROMO APPLICATIONS\n",
        "promo_apps = []\n",
        "for i in range(1, NUM_PROMOS * 20):\n",
        "    user_id = random.randint(1, NUM_USERS)\n",
        "    sub = random.choice(subscriptions)\n",
        "    promo_id = random.randint(1, NUM_PROMOS)\n",
        "    promo_apps.append({\n",
        "        \"id\": i,\n",
        "        \"user_id\": user_id,\n",
        "        \"subscription_id\": sub[\"subscription_id\"],\n",
        "        \"promo_id\": promo_id,\n",
        "        \"applied_date\": sub[\"subscription_date\"]\n",
        "    })\n",
        "df_subpromo = pd.DataFrame(promo_apps)\n",
        "df_subpromo.to_csv(\"subscription_promotions.csv\", index=False)\n",
        "\n",
        "# USER LTV\n",
        "ltv_data = []\n",
        "for user in users:\n",
        "    total_revenue = round(random.uniform(10, 500), 2)\n",
        "    months = random.randint(1, 24)\n",
        "    ltv_data.append({\n",
        "        \"user_id\": user[\"user_id\"],\n",
        "        \"total_revenue\": total_revenue,\n",
        "        \"avg_monthly_revenue\": round(total_revenue / months, 2),\n",
        "        \"lifetime_months\": months\n",
        "    })\n",
        "df_ltv = pd.DataFrame(ltv_data)\n",
        "df_ltv.to_csv(\"user_ltv.csv\", index=False)\n",
        "\n",
        "# RETENTION SNAPSHOTS\n",
        "snapshots = []\n",
        "start = datetime.now() - timedelta(days=720)\n",
        "for i in range(24):  # 2 years\n",
        "    cohort = (start + timedelta(days=30 * i)).date().replace(day=1)\n",
        "    for j in range(6):  # 6 months after\n",
        "        snap = (cohort + timedelta(days=30 * j)).replace(day=1)\n",
        "        cohort_size = random.randint(100, 500)\n",
        "        retained = int(cohort_size * random.uniform(0.2, 0.8))\n",
        "        snapshots.append({\n",
        "            \"cohort_month\": cohort,\n",
        "            \"snapshot_month\": snap,\n",
        "            \"cohort_size\": cohort_size,\n",
        "            \"retained_users\": retained\n",
        "        })\n",
        "df_snapshots = pd.DataFrame(snapshots)\n",
        "df_snapshots.to_csv(\"retention_snapshots.csv\", index=False)\n",
        "\n",
        "print(\"✅ All CSVs generated successfully!\")\n",
        "\n",
        "# List all generated CSV files\n",
        "csv_files = [\n",
        "    \"users.csv\", \"subscription_plans.csv\", \"subscriptions.csv\", \"payments.csv\",\n",
        "    \"cancellations.csv\", \"user_logins.csv\", \"support_tickets.csv\", \"promotions.csv\",\n",
        "    \"subscription_promotions.csv\", \"user_ltv.csv\", \"retention_snapshots.csv\"\n",
        "]\n",
        "\n",
        "print(\"\\nGenerated CSV files:\")\n",
        "for f in csv_files:\n",
        "    print(f\"- {f}\")\n",
        "\n",
        "# Zip all files into one archive\n",
        "zip_filename = \"churn_project_data.zip\"\n",
        "with zipfile.ZipFile(zip_filename, 'w') as zipf:\n",
        "    for f in csv_files:\n",
        "        zipf.write(f)\n",
        "\n",
        "print(f\"\\n📦 All CSVs zipped into '{zip_filename}'\")\n",
        "\n",
        "# Provide download link\n",
        "display(FileLink(zip_filename))\n"
      ]
    },
    {
      "cell_type": "code",
      "source": [
        "from google.colab import files\n",
        "\n",
        "files.download(zip_filename)"
      ],
      "metadata": {
        "colab": {
          "base_uri": "https://localhost:8080/",
          "height": 17
        },
        "id": "ZGiOiZNMmMM6",
        "outputId": "9d495776-eb8a-4dcd-81ac-289dc8d9cdb6"
      },
      "execution_count": 5,
      "outputs": [
        {
          "output_type": "display_data",
          "data": {
            "text/plain": [
              "<IPython.core.display.Javascript object>"
            ],
            "application/javascript": [
              "\n",
              "    async function download(id, filename, size) {\n",
              "      if (!google.colab.kernel.accessAllowed) {\n",
              "        return;\n",
              "      }\n",
              "      const div = document.createElement('div');\n",
              "      const label = document.createElement('label');\n",
              "      label.textContent = `Downloading \"${filename}\": `;\n",
              "      div.appendChild(label);\n",
              "      const progress = document.createElement('progress');\n",
              "      progress.max = size;\n",
              "      div.appendChild(progress);\n",
              "      document.body.appendChild(div);\n",
              "\n",
              "      const buffers = [];\n",
              "      let downloaded = 0;\n",
              "\n",
              "      const channel = await google.colab.kernel.comms.open(id);\n",
              "      // Send a message to notify the kernel that we're ready.\n",
              "      channel.send({})\n",
              "\n",
              "      for await (const message of channel.messages) {\n",
              "        // Send a message to notify the kernel that we're ready.\n",
              "        channel.send({})\n",
              "        if (message.buffers) {\n",
              "          for (const buffer of message.buffers) {\n",
              "            buffers.push(buffer);\n",
              "            downloaded += buffer.byteLength;\n",
              "            progress.value = downloaded;\n",
              "          }\n",
              "        }\n",
              "      }\n",
              "      const blob = new Blob(buffers, {type: 'application/binary'});\n",
              "      const a = document.createElement('a');\n",
              "      a.href = window.URL.createObjectURL(blob);\n",
              "      a.download = filename;\n",
              "      div.appendChild(a);\n",
              "      a.click();\n",
              "      div.remove();\n",
              "    }\n",
              "  "
            ]
          },
          "metadata": {}
        },
        {
          "output_type": "display_data",
          "data": {
            "text/plain": [
              "<IPython.core.display.Javascript object>"
            ],
            "application/javascript": [
              "download(\"download_adee0de9-a03a-43a8-9e76-a58e2e9c069d\", \"churn_project_data.zip\", 6258494)"
            ]
          },
          "metadata": {}
        }
      ]
    },
    {
      "cell_type": "code",
      "source": [],
      "metadata": {
        "id": "ykXPtUFUnAkG"
      },
      "execution_count": null,
      "outputs": []
    }
  ]
}